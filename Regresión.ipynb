{
  "nbformat": 4,
  "nbformat_minor": 0,
  "metadata": {
    "colab": {
      "name": "Regresión.ipynb",
      "provenance": [],
      "authorship_tag": "ABX9TyPM6luoAfVVeZiZ5QjlTUHG",
      "include_colab_link": true
    },
    "kernelspec": {
      "name": "python3",
      "display_name": "Python 3"
    },
    "language_info": {
      "name": "python"
    }
  },
  "cells": [
    {
      "cell_type": "markdown",
      "metadata": {
        "id": "view-in-github",
        "colab_type": "text"
      },
      "source": [
        "<a href=\"https://colab.research.google.com/github/milioe/CursoAnalitica/blob/main/Regresi%C3%B3n.ipynb\" target=\"_parent\"><img src=\"https://colab.research.google.com/assets/colab-badge.svg\" alt=\"Open In Colab\"/></a>"
      ]
    },
    {
      "cell_type": "markdown",
      "source": [
        "## Arizona Houses\n",
        "\n",
        "\n",
        "* Fuente: [Kaggle](https://www.kaggle.com/datasets/antoniong203/arizona-houses-2021)"
      ],
      "metadata": {
        "id": "UY-0Gh90M5EY"
      }
    },
    {
      "cell_type": "code",
      "source": [
        "!wget https://raw.githubusercontent.com/milioe/CursoAnalitica/main/Datasets/AZhousingData.csv"
      ],
      "metadata": {
        "colab": {
          "base_uri": "https://localhost:8080/"
        },
        "id": "RW2S1hxAM5iQ",
        "outputId": "0234ff62-c788-4139-ba84-f1f214b34533"
      },
      "execution_count": 1,
      "outputs": [
        {
          "output_type": "stream",
          "name": "stdout",
          "text": [
            "--2022-05-09 05:05:32--  https://raw.githubusercontent.com/milioe/CursoAnalitica/main/Datasets/AZhousingData.csv\n",
            "Resolving raw.githubusercontent.com (raw.githubusercontent.com)... 185.199.110.133, 185.199.111.133, 185.199.108.133, ...\n",
            "Connecting to raw.githubusercontent.com (raw.githubusercontent.com)|185.199.110.133|:443... connected.\n",
            "HTTP request sent, awaiting response... 200 OK\n",
            "Length: 88711 (87K) [text/plain]\n",
            "Saving to: ‘AZhousingData.csv’\n",
            "\n",
            "AZhousingData.csv   100%[===================>]  86.63K  --.-KB/s    in 0.01s   \n",
            "\n",
            "2022-05-09 05:05:32 (6.60 MB/s) - ‘AZhousingData.csv’ saved [88711/88711]\n",
            "\n"
          ]
        }
      ]
    },
    {
      "cell_type": "code",
      "source": [
        ""
      ],
      "metadata": {
        "id": "F0aja2YLM5l0"
      },
      "execution_count": null,
      "outputs": []
    },
    {
      "cell_type": "code",
      "source": [
        ""
      ],
      "metadata": {
        "id": "aqd-iVOXM5pU"
      },
      "execution_count": null,
      "outputs": []
    }
  ]
}